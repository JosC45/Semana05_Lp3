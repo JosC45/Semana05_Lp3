{
 "cells": [
  {
   "cell_type": "markdown",
   "id": "4c37e662",
   "metadata": {},
   "source": [
    "# Semana 5"
   ]
  },
  {
   "cell_type": "markdown",
   "id": "05021092",
   "metadata": {},
   "source": [
    "Mg. Flor Cerdan Leon"
   ]
  },
  {
   "cell_type": "markdown",
   "id": "638baf0f",
   "metadata": {},
   "source": [
    "Temas:\n",
    "1.Colecciones de datos\n",
    "2.Estructuras decisivas\n",
    "3.Clases y objetos\n",
    "4.Funciones\n"
   ]
  },
  {
   "cell_type": "markdown",
   "id": "50a8042c",
   "metadata": {},
   "source": [
    "2.Estructuras decisivas"
   ]
  },
  {
   "cell_type": "code",
   "execution_count": null,
   "id": "8b987d9c",
   "metadata": {},
   "outputs": [],
   "source": [
    "P1=float(input(\"Producto 1:\"))\n",
    "P2=float(input(\"Producto 2:\"))\n",
    "P3=float(input(\"Producto 3:\"))\n",
    "total=P1+P2+P3\n",
    "if total>=1000:\n",
    "    total*=0.9\n",
    "print(f\"El total a pagar es:(total)\")"
   ]
  },
  {
   "cell_type": "code",
   "execution_count": null,
   "id": "f0460b40",
   "metadata": {},
   "outputs": [],
   "source": [
    "lista = [\"ASUNCION\", \"BARZOLA\", \"CAMAN\", \"CURO\", \"INCA\", \"SAHUMA\", \"TALLEDO\", \"URBISAGASTEGUI\"]\n",
    "apellido=input(\"Ingrese el nombre a buscar: \")\n",
    "if apellido.upper() in lista:\n",
    "    print(\"Si esta en la lista de Lp3\")\n",
    "else:\n",
    "    print(\"No esta en la lista de Lp3\")"
   ]
  },
  {
   "cell_type": "code",
   "execution_count": null,
   "id": "10847cf4",
   "metadata": {},
   "outputs": [],
   "source": [
    "importe=float(input(\"Digite el importe total de ventas: \"))\n",
    "if importe<0:\n",
    "    print(\"Datos erroneos\")\n",
    "else:\n",
    "    if ventas<=1000:\n",
    "        print(\"Categoria A\")\n",
    "    else:\n",
    "        if ventas<=2000:\n",
    "            print(\"Categoria B \")\n",
    "        else:\n",
    "            if ventas<=5000:\n",
    "                print(\"Categoria C\")\n",
    "            else:\n",
    "                print(\"Categoria D\")"
   ]
  },
  {
   "cell_type": "code",
   "execution_count": null,
   "id": "a59e16c3",
   "metadata": {},
   "outputs": [],
   "source": []
  },
  {
   "cell_type": "code",
   "execution_count": null,
   "id": "07ad3ef5",
   "metadata": {},
   "outputs": [],
   "source": []
  },
  {
   "cell_type": "code",
   "execution_count": null,
   "id": "1f524618",
   "metadata": {},
   "outputs": [],
   "source": []
  }
 ],
 "metadata": {
  "kernelspec": {
   "display_name": "Python 3 (ipykernel)",
   "language": "python",
   "name": "python3"
  },
  "language_info": {
   "codemirror_mode": {
    "name": "ipython",
    "version": 3
   },
   "file_extension": ".py",
   "mimetype": "text/x-python",
   "name": "python",
   "nbconvert_exporter": "python",
   "pygments_lexer": "ipython3",
   "version": "3.9.13"
  }
 },
 "nbformat": 4,
 "nbformat_minor": 5
}
