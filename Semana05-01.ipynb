{
 "cells": [
  {
   "cell_type": "markdown",
   "id": "4c37e662",
   "metadata": {},
   "source": [
    "# Semana 5"
   ]
  },
  {
   "cell_type": "markdown",
   "id": "05021092",
   "metadata": {},
   "source": [
    "Mg. Flor Cerdan Leon"
   ]
  },
  {
   "cell_type": "markdown",
   "id": "638baf0f",
   "metadata": {},
   "source": [
    "Temas:\n",
    "1.Colecciones de datos\n",
    "2.Estructuras decisivas\n",
    "3.Clases y objetos\n",
    "4.Funciones\n"
   ]
  },
  {
   "cell_type": "markdown",
   "id": "50a8042c",
   "metadata": {},
   "source": [
    "2.Estructuras decisivas"
   ]
  },
  {
   "cell_type": "code",
   "execution_count": 3,
   "id": "8b987d9c",
   "metadata": {},
   "outputs": [
    {
     "name": "stdout",
     "output_type": "stream",
     "text": [
      "Producto 1:100\n",
      "Producto 2:500\n",
      "Producto 3:500\n",
      "El total a pagar es:990.0\n"
     ]
    }
   ],
   "source": [
    "P1=float(input(\"Producto 1:\"))\n",
    "P2=float(input(\"Producto 2:\"))\n",
    "P3=float(input(\"Producto 3:\"))\n",
    "total=P1+P2+P3\n",
    "if total>=1000:\n",
    "    total*=0.9\n",
    "print(f\"El total a pagar es:{total}\")"
   ]
  },
  {
   "cell_type": "code",
   "execution_count": 7,
   "id": "f0460b40",
   "metadata": {},
   "outputs": [
    {
     "name": "stdout",
     "output_type": "stream",
     "text": [
      "Ingrese el nombre a buscar: TENORIO\n",
      "No esta en la lista de Lp3\n"
     ]
    }
   ],
   "source": [
    "lista = [\"ASUNCION\", \"BARZOLA\", \"CAMAN\", \"CURO\", \"INCA\", \"SAHUMA\", \"TALLEDO\", \"URBISAGASTEGUI\"]\n",
    "apellido=input(\"Ingrese el nombre a buscar: \")\n",
    "if apellido.upper() in lista:\n",
    "    print(\"Si esta en la lista de Lp3\")\n",
    "else:\n",
    "    print(\"No esta en la lista de Lp3\")"
   ]
  },
  {
   "cell_type": "code",
   "execution_count": 8,
   "id": "10847cf4",
   "metadata": {},
   "outputs": [
    {
     "name": "stdout",
     "output_type": "stream",
     "text": [
      "Digite el importe total de ventas: 6000\n",
      "Categoria D\n"
     ]
    }
   ],
   "source": [
    "ventas=float(input(\"Digite el importe total de ventas: \"))\n",
    "if ventas<0:\n",
    "    print(\"Datos erroneos\")\n",
    "else:\n",
    "    if ventas<=1000:\n",
    "        print(\"Categoria A\")\n",
    "    else:\n",
    "        if ventas<=2000:\n",
    "            print(\"Categoria B \")\n",
    "        else:\n",
    "            if ventas<=5000:\n",
    "                print(\"Categoria C\")\n",
    "            else:\n",
    "                print(\"Categoria D\")"
   ]
  },
  {
   "cell_type": "code",
   "execution_count": 9,
   "id": "a59e16c3",
   "metadata": {},
   "outputs": [
    {
     "name": "stdout",
     "output_type": "stream",
     "text": [
      "Inca\n",
      "Barzola\n",
      "Urbizagastegui\n",
      "Caman\n"
     ]
    }
   ],
   "source": [
    "aula=['Inca','Barzola','Urbizagastegui','Caman']\n",
    "\n",
    "for alumno in aula:\n",
    "    print(alumno)"
   ]
  },
  {
   "cell_type": "code",
   "execution_count": 10,
   "id": "07ad3ef5",
   "metadata": {},
   "outputs": [
    {
     "name": "stdout",
     "output_type": "stream",
     "text": [
      "Ingrese cadena:chichipi\n",
      "c\n",
      "h\n",
      "i\n",
      "c\n",
      "h\n",
      "i\n",
      "p\n",
      "i\n"
     ]
    }
   ],
   "source": [
    "cadena=input(\"Ingrese cadena:\")\n",
    "for caracter in cadena:\n",
    "    print(caracter)"
   ]
  },
  {
   "cell_type": "code",
   "execution_count": 11,
   "id": "1f524618",
   "metadata": {},
   "outputs": [
    {
     "data": {
      "text/plain": [
       "range(0, 5)"
      ]
     },
     "execution_count": 11,
     "metadata": {},
     "output_type": "execute_result"
    }
   ],
   "source": [
    "range(5)"
   ]
  },
  {
   "cell_type": "code",
   "execution_count": 13,
   "id": "6fcc90c7",
   "metadata": {},
   "outputs": [
    {
     "name": "stdout",
     "output_type": "stream",
     "text": [
      "10\n",
      "12\n",
      "14\n",
      "16\n",
      "18\n",
      "20\n"
     ]
    }
   ],
   "source": [
    "for numero in range(10,22,2):\n",
    "    print (numero)"
   ]
  },
  {
   "cell_type": "code",
   "execution_count": 15,
   "id": "1525df0b",
   "metadata": {},
   "outputs": [
    {
     "name": "stdout",
     "output_type": "stream",
     "text": [
      "3\n",
      "4\n",
      "5\n",
      "6\n",
      "7\n",
      "8\n",
      "9\n",
      "10\n"
     ]
    }
   ],
   "source": [
    "numero=3\n",
    "fin=10\n",
    "while numero<=fin:\n",
    "    print(numero)\n",
    "    numero+=1"
   ]
  },
  {
   "cell_type": "code",
   "execution_count": null,
   "id": "230cfbf9",
   "metadata": {},
   "outputs": [],
   "source": []
  }
 ],
 "metadata": {
  "kernelspec": {
   "display_name": "Python 3 (ipykernel)",
   "language": "python",
   "name": "python3"
  },
  "language_info": {
   "codemirror_mode": {
    "name": "ipython",
    "version": 3
   },
   "file_extension": ".py",
   "mimetype": "text/x-python",
   "name": "python",
   "nbconvert_exporter": "python",
   "pygments_lexer": "ipython3",
   "version": "3.9.13"
  }
 },
 "nbformat": 4,
 "nbformat_minor": 5
}
