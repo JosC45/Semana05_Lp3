{
 "cells": [
  {
   "cell_type": "markdown",
   "id": "06e89e07",
   "metadata": {},
   "source": [
    "# Semana 5"
   ]
  },
  {
   "cell_type": "code",
   "execution_count": null,
   "id": "d79b3ad2",
   "metadata": {},
   "outputs": [],
   "source": [
    "2.Estructuras decisivas"
   ]
  },
  {
   "cell_type": "code",
   "execution_count": null,
   "id": "bf05f927",
   "metadata": {},
   "outputs": [],
   "source": [
    "def saludo():\n",
    "    print(\"Bienvenidos al curso de LP3\")\n",
    "    print(\"****PYTHON****\")"
   ]
  },
  {
   "cell_type": "code",
   "execution_count": null,
   "id": "477af553",
   "metadata": {},
   "outputs": [],
   "source": [
    "saludo()"
   ]
  },
  {
   "cell_type": "code",
   "execution_count": 7,
   "id": "e71912ae",
   "metadata": {},
   "outputs": [],
   "source": [
    "def factorial(numero):\n",
    "    fac=1\n",
    "    for i in range(1,numero+1):\n",
    "        fac*=i\n",
    "    print(f\"El factorial es: {fac}\")"
   ]
  },
  {
   "cell_type": "code",
   "execution_count": 8,
   "id": "0fe3e7e3",
   "metadata": {},
   "outputs": [
    {
     "name": "stdout",
     "output_type": "stream",
     "text": [
      "Ingrese un numero:6\n"
     ]
    }
   ],
   "source": [
    "numero=int(input(\"Ingrese un numero:\"))"
   ]
  },
  {
   "cell_type": "code",
   "execution_count": 11,
   "id": "ccda4014",
   "metadata": {},
   "outputs": [],
   "source": [
    "def saludo2():\n",
    "    mensaje=\"Bienvenidos a LP3\"\n",
    "    return mensaje"
   ]
  },
  {
   "cell_type": "code",
   "execution_count": 12,
   "id": "a6152a10",
   "metadata": {},
   "outputs": [
    {
     "name": "stdout",
     "output_type": "stream",
     "text": [
      "Bienvenidos a LP3\n"
     ]
    }
   ],
   "source": [
    "print(saludo2())"
   ]
  },
  {
   "cell_type": "code",
   "execution_count": 14,
   "id": "03ffbcb5",
   "metadata": {},
   "outputs": [],
   "source": [
    "def factorial2(numero):\n",
    "    fac=1\n",
    "    for i in range(1,numero+1):\n",
    "        fac*=1\n",
    "    return fac"
   ]
  },
  {
   "cell_type": "code",
   "execution_count": 20,
   "id": "3829cbfd",
   "metadata": {},
   "outputs": [
    {
     "name": "stdout",
     "output_type": "stream",
     "text": [
      "Numero: 6\n",
      "El factorial de 6 es 1\n"
     ]
    }
   ],
   "source": [
    "numero=int(input(\"Numero: \"))\n",
    "print(f\"El factorial de {numero} es {factorial2(numero)}\")"
   ]
  },
  {
   "cell_type": "code",
   "execution_count": 17,
   "id": "b666c7e8",
   "metadata": {},
   "outputs": [],
   "source": [
    "def obtenerigv(importe):\n",
    "    return importe*0.18"
   ]
  },
  {
   "cell_type": "code",
   "execution_count": 18,
   "id": "8ab7e61c",
   "metadata": {},
   "outputs": [
    {
     "data": {
      "text/plain": [
       "27.0"
      ]
     },
     "execution_count": 18,
     "metadata": {},
     "output_type": "execute_result"
    }
   ],
   "source": [
    "obtenerigv(150)"
   ]
  },
  {
   "cell_type": "code",
   "execution_count": 19,
   "id": "493e530a",
   "metadata": {},
   "outputs": [
    {
     "data": {
      "text/plain": [
       "21"
      ]
     },
     "execution_count": 19,
     "metadata": {},
     "output_type": "execute_result"
    }
   ],
   "source": [
    "factorial2(5)+20"
   ]
  },
  {
   "cell_type": "code",
   "execution_count": null,
   "id": "bfa96bb0",
   "metadata": {},
   "outputs": [],
   "source": []
  }
 ],
 "metadata": {
  "kernelspec": {
   "display_name": "Python 3 (ipykernel)",
   "language": "python",
   "name": "python3"
  },
  "language_info": {
   "codemirror_mode": {
    "name": "ipython",
    "version": 3
   },
   "file_extension": ".py",
   "mimetype": "text/x-python",
   "name": "python",
   "nbconvert_exporter": "python",
   "pygments_lexer": "ipython3",
   "version": "3.9.13"
  }
 },
 "nbformat": 4,
 "nbformat_minor": 5
}
