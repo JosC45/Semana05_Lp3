{
 "cells": [
  {
   "cell_type": "markdown",
   "id": "4b335ae6",
   "metadata": {},
   "source": [
    "#  Semana5"
   ]
  },
  {
   "cell_type": "markdown",
   "id": "c1990015",
   "metadata": {},
   "source": [
    "Temas:\n",
    "    3.Clases y objetos"
   ]
  },
  {
   "cell_type": "code",
   "execution_count": 6,
   "id": "20cb59e6",
   "metadata": {},
   "outputs": [],
   "source": [
    "class Persona:\n",
    "    nombre=\"\"\n",
    "    apellidos=\"\"\n",
    "    dni=\"\"\n",
    "    talla=0\n"
   ]
  },
  {
   "cell_type": "code",
   "execution_count": 7,
   "id": "c1d743a7",
   "metadata": {},
   "outputs": [],
   "source": [
    "persona1=Persona()"
   ]
  },
  {
   "cell_type": "code",
   "execution_count": 8,
   "id": "a1af4b7f",
   "metadata": {},
   "outputs": [],
   "source": [
    "persona1.nombre=\"Alexia\"\n",
    "persona1.apellidos=\"Asuncion Pomasonco\"\n",
    "persona1.dni=\"12345678\"\n",
    "persona1.talla=1.7"
   ]
  },
  {
   "cell_type": "code",
   "execution_count": 9,
   "id": "d2bb0331",
   "metadata": {},
   "outputs": [
    {
     "name": "stdout",
     "output_type": "stream",
     "text": [
      "persona1\n",
      "nombre:Alexia\n",
      "apellidos:Asuncion Pomasonco\n",
      "dni:12345678\n",
      "talla:1.7\n"
     ]
    }
   ],
   "source": [
    "print(\"persona1\")\n",
    "print(f\"nombre:{persona1.nombre}\")\n",
    "print(f\"apellidos:{persona1.apellidos}\")\n",
    "print(f\"dni:{persona1.dni}\")\n",
    "print(f\"talla:{persona1.talla}\")"
   ]
  },
  {
   "cell_type": "code",
   "execution_count": 10,
   "id": "22429c7b",
   "metadata": {},
   "outputs": [],
   "source": [
    "class Curso:\n",
    "    Codigo=\"\"\n",
    "    Nombre=\"\"\n",
    "    Horas=0\n",
    "    Creditos=0"
   ]
  },
  {
   "cell_type": "code",
   "execution_count": 11,
   "id": "01c7dd9a",
   "metadata": {},
   "outputs": [],
   "source": [
    "curso1=Curso()"
   ]
  },
  {
   "cell_type": "code",
   "execution_count": 21,
   "id": "a803c6a5",
   "metadata": {},
   "outputs": [],
   "source": [
    "class curso:\n",
    "    def __init__(self,codigo,nombre,horas,creditos):\n",
    "        self.codigo=codigo\n",
    "        self.nombre=nombre\n",
    "        self.horas=horas\n",
    "        self.creditos=creditos\n",
    "    def mostrar_datos_curso(self):\n",
    "        print(f\"Curso: {self.nombre}\")\n",
    "        print(f\"Codigo: {self.codigo}\")\n",
    "        print(f\"Horas: {self.horas}\")\n",
    "        print(f\"Creditos: {self.creditos}\")\n",
    "              "
   ]
  },
  {
   "cell_type": "code",
   "execution_count": 22,
   "id": "1cb47cd8",
   "metadata": {},
   "outputs": [],
   "source": [
    "curso1=curso(\"cos01\",\"Lp3\",6,3)"
   ]
  },
  {
   "cell_type": "code",
   "execution_count": 24,
   "id": "db1f7c31",
   "metadata": {},
   "outputs": [
    {
     "name": "stdout",
     "output_type": "stream",
     "text": [
      "Curso: Lp3\n",
      "Codigo: cos01\n",
      "Horas: 6\n",
      "Creditos: 3\n"
     ]
    }
   ],
   "source": [
    "curso1.mostrar_datos_curso()"
   ]
  },
  {
   "cell_type": "code",
   "execution_count": null,
   "id": "096861d2",
   "metadata": {},
   "outputs": [],
   "source": []
  }
 ],
 "metadata": {
  "kernelspec": {
   "display_name": "Python 3 (ipykernel)",
   "language": "python",
   "name": "python3"
  },
  "language_info": {
   "codemirror_mode": {
    "name": "ipython",
    "version": 3
   },
   "file_extension": ".py",
   "mimetype": "text/x-python",
   "name": "python",
   "nbconvert_exporter": "python",
   "pygments_lexer": "ipython3",
   "version": "3.9.13"
  }
 },
 "nbformat": 4,
 "nbformat_minor": 5
}
